{
 "cells": [
  {
   "cell_type": "markdown",
   "metadata": {},
   "source": [
    "# Funciones índices de sequía\n",
    "\n",
    "En este _notebook_ se guardan las funciones que se utilizan en los ejercicios de sequías, de manera que se pueden importar directamente en cualquier otro _notebook_ sin necesidad de reescribirlas. \n",
    "\n",
    "Para cargar estas funciones en otro _notebook_, se utiliza una de las funciones llamadas mágicas en terminología _Python_:\n",
    "```Python\n",
    "%run funciones_sequias.ipynb\n",
    "```\n",
    "Esta línea sólo funciona si `funciones_sequias.ipynb` está en la misma carpeta que el _notebook_ en el que se quiere cargar. En caso contrario, hay que utilizar el paquete `os` para definir en qué carpeta se encuentra `funciones_sequias.ipynb`.\n",
    "\n",
    "```Python\n",
    "import os\n",
    "os.chdir('ruta donde se encuentra `funciones_sequias.ipynb')\n",
    "%run funciones_precipitacion.ipynb\n",
    "```\n",
    "\n",
    "__Índice__<br>\n",
    "\n",
    "__[Evapotranspiración](#Evapotranspiración)__<br>\n",
    "\n",
    "__[Índices de sequía](#Índices-de-sequía)__<br>"
   ]
  },
  {
   "cell_type": "code",
   "execution_count": 37,
   "metadata": {},
   "outputs": [],
   "source": [
    "import numpy as np\n",
    "import pandas as pd\n",
    "import matplotlib.pyplot as plt\n",
    "#import seaborn as sns; sns.set()\n",
    "plt.style.use('dark_background')\n",
    "#plt.style.use('seaborn-whitegrid')\n",
    "%matplotlib inline\n",
    "\n",
    "from datetime import datetime, timedelta\n",
    "import scipy.stats as stats\n",
    "import tqdm"
   ]
  },
  {
   "cell_type": "markdown",
   "metadata": {},
   "source": [
    "### Evapotranspiración"
   ]
  },
  {
   "cell_type": "code",
   "execution_count": 9,
   "metadata": {},
   "outputs": [],
   "source": [
    "# Cargar funciones\n",
    "%run funciones_sol.ipynb"
   ]
  },
  {
   "cell_type": "code",
   "execution_count": 10,
   "metadata": {},
   "outputs": [],
   "source": [
    "def etp_thornthwaite(T, lat):\n",
    "    \"\"\"Calcula la serie de evapotranspiración potencial mediante el método de\n",
    "    Thornthwaite:\n",
    "    \n",
    "                ETP = 16 * Ld * (10 * T / I)**a [mm]\n",
    "                \n",
    "                I = sum(i);     i = (Ti / 5)**1.514\n",
    "                a = 6.75e-7 * I***3 - 7.71e-5 * I**2 + 1.791e-2 * I + 0.49239\n",
    "    \n",
    "    Entradas:\n",
    "    ---------\n",
    "    T:       Series. Serie mensual de temperatura media [ºC]\n",
    "    lat:     float. Latitud del punto de cálculo en grados sexagesimales\n",
    "    \n",
    "    Salidas:\n",
    "    --------\n",
    "    etp:     Series. Serie mensual de evapotranspiración potencial [mm]\"\"\"\n",
    "    \n",
    "    # Longitud media del día para cada mes como múltiplo de 12 h\n",
    "    lat_rad = lat * np.pi / 180\n",
    "    Ld = _monthly_mean_daylight_hours(latitude_radians=lat_rad, leap=False)\n",
    "    Ld /= 12\n",
    "    Ld = pd.Series(Ld, index=range(1, 13))\n",
    "\n",
    "    # Calcular el índice de calor anual\n",
    "    I = 0\n",
    "    Tm = T.groupby(T.index.month).mean()\n",
    "    for Ti in Tm:\n",
    "        I += (Ti / 5)**1.514 # índice de calor mensual\n",
    "        \n",
    "    # Calcular parámetro 'a'\n",
    "    a = 6.75e-7 * I**3 - 7.71e-5 * I**2 + 1.791e-2 * I + 0.49239\n",
    "    \n",
    "    # Calcular la serie de etp\n",
    "    etp = pd.Series(index=T.index)\n",
    "    for idx in etp.index:\n",
    "        mes = idx.month\n",
    "        etp[idx] = 16 * Ld[mes] * (10 * T[idx] / I)**a\n",
    "        \n",
    "    return etp"
   ]
  },
  {
   "cell_type": "markdown",
   "metadata": {},
   "source": [
    "### Índices de sequía"
   ]
  },
  {
   "cell_type": "code",
   "execution_count": 44,
   "metadata": {},
   "outputs": [],
   "source": [
    "def SPI(serie_pcp, verbose=False):\n",
    "    \"\"\"Calcular el 'standard precipitation index' (SPI) de una serie de\n",
    "    precipitación\n",
    "    \n",
    "    Entradas:\n",
    "    ---------\n",
    "    serie_pcp: Series. Serie de precipitación\n",
    "    verbose:   boolean. Si se muestran los coeficientes ajustados para la\n",
    "               distribución gamma\n",
    "    \n",
    "    Salidas:\n",
    "    --------\n",
    "    SPIs:      Series. Serie de SPI\n",
    "    \"\"\"\n",
    "    \n",
    "    # ajustar la función de distribución gamma\n",
    "    alpha, loc, beta = stats.gamma.fit(serie_pcp, floc=0)\n",
    "    if verbose == True:\n",
    "        print('alpha = {0:.3f}\\tloc = {1:.3f}\\tbeta = {2:.3f}'.format(alpha, loc,\n",
    "                                                                      beta))\n",
    "    \n",
    "    # calcular el SPI para la serie\n",
    "    SPIs = pd.Series(index=serie_pcp.index)\n",
    "    for idx, pcp in zip(serie_pcp.index, serie_pcp):\n",
    "        cdf = stats.gamma.cdf(pcp, alpha, loc, beta)\n",
    "        SPIs[idx] = stats.norm.ppf(cdf)\n",
    "        \n",
    "    return SPIs"
   ]
  },
  {
   "cell_type": "code",
   "execution_count": 50,
   "metadata": {},
   "outputs": [],
   "source": [
    "def plot_SPI(serie_spi, title):\n",
    "    \"\"\"Crea un diagrama de línea con la evolución temporal del SPI\n",
    "    \n",
    "    Entradas:\n",
    "    ---------\n",
    "    serie_spi: Series. Serie temporal de SPI\n",
    "    title:     string. Título del gráfico\n",
    "    \n",
    "    Salidas:\n",
    "    --------\n",
    "    Gráfico de línea\"\"\"\n",
    "    \n",
    "    # Configuración\n",
    "    fig, ax = plt.subplots(figsize=(12, 5))\n",
    "    ax.set(xlim=(serie_spi.index[0], serie_spi.index[-1]), ylim=(-3, 3))\n",
    "    ax.set_title(title, fontsize=14)\n",
    "    \n",
    "    # Gráfico de línea del SPI\n",
    "    ax.plot(serie_spi, color='gold', linewidth=1.2)\n",
    "    \n",
    "    # Fondo con la leyenda de cada rango de SPI\n",
    "    ax.fill_between(serie_spi.index, -3, -2, color='indianred', alpha=0.4,\n",
    "                    label='sequía extrema')\n",
    "    ax.fill_between(serie_spi.index, -2, -1.5, color='indianred', alpha=0.3,\n",
    "                    label='sequía severa')\n",
    "    ax.fill_between(serie_spi.index, -1.5, -1, color='indianred', alpha=0.2,\n",
    "                    label='sequía moderada')\n",
    "    ax.fill_between(serie_spi.index, -1, 0, color='indianred', alpha=0.1,\n",
    "                    label='sequía ligera')\n",
    "    ax.fill_between(serie_spi.index, 0, 1, color='steelblue', alpha=0.1,\n",
    "                    label='húmedo ligero')\n",
    "    ax.fill_between(serie_spi.index, 1, 1.5, color='steelblue', alpha=0.2,\n",
    "                    label='húmedo moderado')\n",
    "    ax.fill_between(serie_spi.index, 1.5, 2, color='steelblue', alpha=0.3,\n",
    "                    label='húmedo severo')\n",
    "    ax.fill_between(serie_spi.index, 2, 3, color='steelblue', alpha=0.4,\n",
    "                    label='húmedo extremo')\n",
    "    \n",
    "    # leyenda\n",
    "    fig.legend(loc=[0.15, 0], ncol=4, fontsize=11);"
   ]
  }
 ],
 "metadata": {
  "kernelspec": {
   "display_name": "Python 3",
   "language": "python",
   "name": "python3"
  },
  "language_info": {
   "codemirror_mode": {
    "name": "ipython",
    "version": 3
   },
   "file_extension": ".py",
   "mimetype": "text/x-python",
   "name": "python",
   "nbconvert_exporter": "python",
   "pygments_lexer": "ipython3",
   "version": "3.7.3"
  }
 },
 "nbformat": 4,
 "nbformat_minor": 4
}
