{
 "cells": [
  {
   "cell_type": "markdown",
   "metadata": {},
   "source": [
    "# Ejercicios de índices de sequía\n",
    "\n",
    "__Índice__<br>\n",
    "\n",
    "__[1 Datos Spain02](#1-Datos Spain02)__<br>\n",
    "[1.1 Precipitación](#1.1-Precipitación)<br>\n",
    "[1.2 Temperatura](#1.2-Temperatura)<br>\n",
    "[1.3 Evapotranspiración](#1.3-Evapotranspiración)<br>\n",
    "\n",
    "__[2 Índices de sequía en Santander](#2-Índices-de-sequía-en-Santander)__<br>\n",
    "[2.1 Extraer datos de Spain02](#2.1-Extraer-datos-de-Spain02)<br>\n",
    "[2.2 Standard precipitation index: SPI](#2.2-Standard-precipitation-index:-SPI)<br>\n",
    "[2.3 Standard precipitation-evapotranspiration index: SPEI](#2.3-Standard-precipitation-evapotranspiration-index:-SPEI)<br>\n",
    "[2.4 Comparación](#2.4-Comparación)<br>\n",
    "\n",
    "__[3 Índices de sequía en España](#3-Índices-de-sequía-en-España)__<br>\n",
    "[3.1 Mapas anuales](#3.1-Mapas-anuales)<br>\n",
    "[3.2 SPI anual](#3.2-SPI-anual)<br>\n",
    "[3.3 SPEI anual](#3.3-SPEI-anual)<br>\n",
    "[3.4 Comparación](#3.4-Comparación)<br>\n",
    "\n",
    "En este ejercicio vamos a calcular dos índices de sequía: el _standard precipitation index_ (SPI) y el _standard precipitation-evapotranspiration index_ (SPEI). Para ello vamos a utilizar la base de datos _Spain02_, que contiene mapas históricos de precipitación y temperatura para toda España.\n",
    "\n",
    "Como ejercicio inicial, extraeremos de la base de datos las series de precipitación y temperatura correspondientes a Santander y sobre ellos calcularemos los dos índices de sequía. Posteriormente calcularemos el SPI para toda España."
   ]
  },
  {
   "cell_type": "code",
   "execution_count": null,
   "metadata": {
    "collapsed": true
   },
   "outputs": [],
   "source": [
    "import numpy as np\n",
    "import pandas as pd\n",
    "import matplotlib.pyplot as plt\n",
    "#import seaborn as sns; sns.set()\n",
    "plt.style.use('seaborn')\n",
    "%matplotlib inline\n",
    "\n",
    "from datetime import datetime, timedelta\n",
    "import scipy.stats as stats\n",
    "import tqdm"
   ]
  },
  {
   "cell_type": "markdown",
   "metadata": {},
   "source": [
    "## 1 Datos Spain02\n",
    "En el ejercicio utilizaremos los mapas mensuales de precipitación y temperatura de la base de datos Spain02. Los datos vienen en formato NetCDF, un formato habitual para trabajar con series temporales de mapas."
   ]
  },
  {
   "cell_type": "code",
   "execution_count": null,
   "metadata": {
    "collapsed": true
   },
   "outputs": [],
   "source": [
    "from netCDF4 import Dataset\n",
    "import pickle"
   ]
  },
  {
   "cell_type": "markdown",
   "metadata": {},
   "source": [
    "### 1.1 Precipitación"
   ]
  },
  {
   "cell_type": "code",
   "execution_count": null,
   "metadata": {
    "collapsed": true
   },
   "outputs": [],
   "source": [
    "# Cargar NetCDF\n"
   ]
  },
  {
   "cell_type": "code",
   "execution_count": null,
   "metadata": {
    "collapsed": true
   },
   "outputs": [],
   "source": [
    "# Extraer variables del NetCDF\n",
    "                        # precipitación\n",
    "                        # longitud\n",
    "                        # latitud\n",
    "                  # calcular resolución espacial\n",
    "                   # fechas\n",
    "                        # fecha de referencia\n",
    "  # Convertir 'time_m' en fechas"
   ]
  },
  {
   "cell_type": "code",
   "execution_count": null,
   "metadata": {},
   "outputs": [],
   "source": [
    "\n",
    "print('dimensiones de la matriz: ', pcp_m.shape)\n",
    "print('nº días: {0}\\tnº de columnas: {1}\\tnº de filas: {2}'.format(len(time_m), len(lats), len(lons)))"
   ]
  },
  {
   "cell_type": "markdown",
   "metadata": {},
   "source": [
    "### 1.2 Temperatura"
   ]
  },
  {
   "cell_type": "code",
   "execution_count": null,
   "metadata": {},
   "outputs": [],
   "source": [
    "# Cargar NetCDF\n",
    "\n",
    "\n",
    "# Extraer variables del NetCDF\n",
    "\n",
    "\n",
    "print('dimensiones de la matriz: ', tmp_m.shape)"
   ]
  },
  {
   "cell_type": "markdown",
   "metadata": {},
   "source": [
    "### 1.3 Evapotranspiración\n",
    "Spain02 no dispone de datos de evapotranspiración. Se calcula la ETP por el método de Thornthwaite, puesto que sólo se dispone de datos de precipitación y temperatura media. El método de Thornthwaite calcula la evapo"
   ]
  },
  {
   "cell_type": "code",
   "execution_count": null,
   "metadata": {
    "collapsed": true
   },
   "outputs": [],
   "source": [
    "# Cargar funciones\n",
    "%run funciones_sol.ipynb"
   ]
  },
  {
   "cell_type": "code",
   "execution_count": null,
   "metadata": {
    "collapsed": true
   },
   "outputs": [],
   "source": [
    "def etp_thornthwaite(T, lat):\n",
    "    \"\"\"Calcula la serie de evapotranspiración potencial mediante el métod de Thornthwaite.\n",
    "    ETP = 16 * Ld * (10 * T / I)**a [mm]\n",
    "    I = sum(i);     i = (Ti / 5)**1.514\n",
    "    a = 6.75e-7 * I***3 - 7.71e-5 * I**2 + 1.791e-2 * I + 0.49239\n",
    "    \n",
    "    Entradas:\n",
    "    ---------\n",
    "    T:       Series. Serie mensual de temperatura media [ºC]\n",
    "    lat:     float. Latitud del punto de cálculo en grados sexagesimales\n",
    "    \n",
    "    Salidas:\n",
    "    --------\n",
    "    etp:     Series. Serie mensual de evapotranspiración potencial [mm]\"\"\"\n",
    "    \n",
    "    \n",
    "        \n",
    "    return etp"
   ]
  },
  {
   "cell_type": "code",
   "execution_count": null,
   "metadata": {
    "collapsed": true,
    "scrolled": true
   },
   "outputs": [],
   "source": [
    "calcular_etp = False\n",
    "\n",
    "if calcular_etp == True: # calcular y exportar mapas mensuales de ETP\n",
    "    for j, lat in tqdm.tqdm(enumerate(lats)):\n",
    "        for k, lon in enumerate(lons):\n",
    "            if etp_m.mask[0,j,k]:\n",
    "                continue\n",
    "            lat += cellsize / 2\n",
    "            pcp = pd.Series(pcp_m.data[:,j,k], index=pd.DatetimeIndex(time_m))\n",
    "            tmp = pd.Series(tmp_m.data[:,j,k], index=pd.DatetimeIndex(time_m))\n",
    "            # serie de etp mensual\n",
    "            etp = etp_thornthwaite(tmp, lat)\n",
    "            etp[etp > pcp] = pcp[etp > pcp] - 1 # corregir si ETP mayor que precipitación\n",
    "            etp[etp.isnull()] = 1               # corregir NaN\n",
    "            etp_m[:,j,k] = etp.values\n",
    "            del etp\n",
    "    with open('Spain02_v5.0_MM_010reg_aa3d_etp.pkl', 'wb') as f:\n",
    "        pickle.dump(etp_m, f)\n",
    "    \n",
    "else: # importar mapas mensuales de ETP\n",
    "    with open('Spain02_v5.0_MM_010reg_aa3d_etp.pkl', 'rb') as f:\n",
    "        etp_m = pickle.load(f)"
   ]
  },
  {
   "cell_type": "code",
   "execution_count": null,
   "metadata": {},
   "outputs": [],
   "source": [
    "mes = 100\n",
    "\n",
    "fig, ax = plt.subplots(ncols=3, figsize=(16, 4.25))\n",
    "\n",
    "# mapa de precipitación\n",
    "# ---------------------\n",
    "pcp_map = ax[0].imshow(pcp_m[mes][::-1], cmap='viridis', aspect='equal')\n",
    "# configurar la figura\n",
    "ax[0].axis('off')\n",
    "ax[0].set_title('precipitación mensual acumulada', fontsize=14)\n",
    "cb0 = fig.colorbar(pcp_map, ax=ax[0], orientation='horizontal')\n",
    "cb0.set_label('(mm)', fontsize=12)\n",
    "\n",
    "# mapa de temperatura\n",
    "# -------------------\n",
    "tmp_map = ax[1].imshow(tmp_m[mes][::-1], cmap='viridis', aspect='equal')\n",
    "# configurar la figura\n",
    "ax[1].axis('off')\n",
    "ax[1].set_title('temperatura media mensual', fontsize=14)\n",
    "cb1 = fig.colorbar(tmp_map, ax=ax[1], orientation='horizontal')\n",
    "cb1.set_label('(ºC)', fontsize=12)\n",
    "\n",
    "# mapa de evapotranspiración\n",
    "# --------------------------\n",
    "etp_map = ax[2].imshow(etp_m[mes][::-1], cmap='viridis', aspect='equal')\n",
    "# configurar la figura\n",
    "ax[2].axis('off')\n",
    "ax[2].set_title('evapotranspiración acumulada mensual', fontsize=14)\n",
    "cb1 = fig.colorbar(tmp_map, ax=ax[2], orientation='horizontal')\n",
    "cb1.set_label('(mm)', fontsize=12)\n",
    "\n",
    "fig.suptitle(str(time_m[mes].month) + '-' + str(time_m[mes].year), fontsize=16, fontweight='bold');"
   ]
  },
  {
   "cell_type": "markdown",
   "metadata": {},
   "source": [
    "## 2 Índices de sequía en Santander\n",
    "\n",
    "Como introducción al cálculo de los índices de sequía, trabajaremos únicamente con los datos de _Spain02_ para Santander. Es decir, trabajaremos como si tuviéramos las series temporales de una única estación meteorológica.\n",
    "\n",
    "Analizaremos los índices de sequía tanto a escala mensual como anual, para lo que será necesario agregar a resolución anual los datos mensuales originales."
   ]
  },
  {
   "cell_type": "markdown",
   "metadata": {},
   "source": [
    "### 2.1 Extraer datos de Spain02"
   ]
  },
  {
   "cell_type": "code",
   "execution_count": null,
   "metadata": {
    "collapsed": true
   },
   "outputs": [],
   "source": [
    "# coordenadas de Santander\n",
    "lat_loc, lon_loc = 43.4584300, -3.8071200\n",
    "\n",
    "# Coordenadas de Sevilla\n",
    "#lat_loc, lon_loc = 37.3828300, -5.9731700"
   ]
  },
  {
   "cell_type": "code",
   "execution_count": null,
   "metadata": {},
   "outputs": [],
   "source": [
    "# posición de Santander en la matriz de Spain02\n",
    "\n",
    "\n",
    "\n",
    "print('latitud: {0:.2f} ({1})\\tlongitud: {2:.2f} ({3})'.format(lat, j_loc, lon, k_loc))"
   ]
  },
  {
   "cell_type": "markdown",
   "metadata": {},
   "source": [
    "#### Precipitación"
   ]
  },
  {
   "cell_type": "code",
   "execution_count": null,
   "metadata": {
    "collapsed": true
   },
   "outputs": [],
   "source": [
    "# extraer serie de precipitación del punto de estudio\n"
   ]
  },
  {
   "cell_type": "code",
   "execution_count": null,
   "metadata": {},
   "outputs": [],
   "source": [
    "# calcular la serie anual\n",
    "\n",
    "\n",
    "\n",
    "\n",
    "print('precipitación media anual: {0:.0f} mm'.format(pcp_loc_y.mean()))"
   ]
  },
  {
   "cell_type": "markdown",
   "metadata": {},
   "source": [
    "#### Temperatura"
   ]
  },
  {
   "cell_type": "code",
   "execution_count": null,
   "metadata": {
    "collapsed": true
   },
   "outputs": [],
   "source": [
    "# extraer serie de temperatura del punto de estudio\n"
   ]
  },
  {
   "cell_type": "code",
   "execution_count": null,
   "metadata": {},
   "outputs": [],
   "source": [
    "# calcular la serie anual\n",
    "\n",
    "\n",
    "\n",
    "print('temperatura media anual: {0:.0f} ºC'.format(tmp_loc_y.mean()))"
   ]
  },
  {
   "cell_type": "markdown",
   "metadata": {},
   "source": [
    "#### Evapotranspiración\n",
    "Para calcular el SPEI es necesaria una serie de evapotranspiración. Como "
   ]
  },
  {
   "cell_type": "code",
   "execution_count": null,
   "metadata": {
    "collapsed": true
   },
   "outputs": [],
   "source": [
    "# serie de etp mensual\n",
    "\n",
    "                               # corregir si ETP mayor que precipitación\n",
    "                                       # corregir NaN"
   ]
  },
  {
   "cell_type": "code",
   "execution_count": null,
   "metadata": {},
   "outputs": [],
   "source": [
    "# calcular la serie anual\n",
    "\n",
    "\n",
    "\n",
    "print('etp media anual: {0:.0f} mm'.format(etp_loc_y.mean()))"
   ]
  },
  {
   "cell_type": "markdown",
   "metadata": {},
   "source": [
    "#### Gráficas"
   ]
  },
  {
   "cell_type": "code",
   "execution_count": null,
   "metadata": {},
   "outputs": [],
   "source": [
    "# Gráficas de series mensuales de precipitación, temperatura y evapotranspiración potencial\n",
    "fig, ax = plt.subplots(nrows=3, figsize=(15, 15), sharex=True)\n",
    "\n",
    "ax[0].plot(pcp_loc_m, linewidth=1)\n",
    "ax[0].set_xlim(pcp_loc_m.index[0], pcp_loc_m.index[-1])\n",
    "ax[0].set_ylim(0, 700)\n",
    "ax[0].set_ylabel('precipitación (mm)', fontsize=14)\n",
    "\n",
    "ax[1].plot(tmp_loc_m, color='indianred', linewidth=1)\n",
    "ax[1].set_ylim(0, 25)\n",
    "ax[1].set_ylabel('temperatura (ºC)', fontsize=14)\n",
    "\n",
    "ax[2].plot(etp_loc_m, color='olive', linewidth=1)\n",
    "ax[2].set_ylim(0, 120)\n",
    "ax[2].set_ylabel('evapotranspiraciónción (mm)', fontsize=14);"
   ]
  },
  {
   "cell_type": "code",
   "execution_count": null,
   "metadata": {},
   "outputs": [],
   "source": [
    "# Gráficas de series anuales de precipitación, temperatura y evapotranspiración potencial\n",
    "fig, ax = plt.subplots(nrows=3, figsize=(15, 15), sharex=True)\n",
    "\n",
    "ax[0].plot(pcp_loc_y, linewidth=1)\n",
    "ax[0].set_xlim(pcp_loc_y.index[0], pcp_loc_y.index[-1])\n",
    "ax[0].set_ylim(0, 2500)\n",
    "ax[0].set_ylabel('precipitación (mm)', fontsize=14)\n",
    "\n",
    "ax[1].plot(tmp_loc_y, color='indianred', linewidth=1)\n",
    "ax[1].set_ylim(12, 16)\n",
    "ax[1].set_ylabel('temperatura (ºC)', fontsize=14)\n",
    "\n",
    "ax[2].plot(etp_loc_y, color='olive', linewidth=1)\n",
    "ax[2].set_ylim(0, 1000)\n",
    "ax[2].set_ylabel('evaporación (mm)', fontsize=14);"
   ]
  },
  {
   "cell_type": "markdown",
   "metadata": {},
   "source": [
    "### 2.2 Standard precipitation index: SPI\n",
    "\n",
    "El SPI es un índice de sequía basado únicamente en la precipitación, por lo que sólo es capaz de predecir la sequía meteorológica. Una de sus ventajas es que puede calcularse para distintas agregaciones temporales (1-3-6-12-24 meses), con lo que se pueden identificar sequías de diversa duración. Lo calcularemos a resolución anual y mensual.\n",
    "\n",
    "#### Anual"
   ]
  },
  {
   "cell_type": "code",
   "execution_count": null,
   "metadata": {},
   "outputs": [],
   "source": [
    "# ajustar la función de distribución gamma\n",
    "\n",
    "print('alpha = {0:.3f}\\tloc = {1:.3f}\\tbeta = {2:.3f}'.format(alpha, loc, beta))"
   ]
  },
  {
   "cell_type": "code",
   "execution_count": null,
   "metadata": {},
   "outputs": [],
   "source": [
    "# plotear la función de distribución y de densidad de la gamma ajustada\n",
    "pcps = np.arange(0, 3000, 0.1)\n",
    "pdf_gamma = stats.gamma.pdf(pcps, alpha, loc, scale=beta)\n",
    "cdf_gamma = stats.gamma.cdf(pcps, alpha, loc, scale=beta)\n",
    "\n",
    "fig, ax = plt.subplots(ncols=2, figsize=(12, 5), sharex=True)\n",
    "\n",
    "# función de distribución\n",
    "ax[0].plot(pcps, pdf_gamma)\n",
    "#ax[0].set(xlim=(0, 10), ylim=(0, 1.2))\n",
    "ax[0].set_xlabel('precipitación (mm)', fontsize=13)\n",
    "ax[0].set_ylabel('función de distribución (pdf)', fontsize=13)\n",
    "\n",
    "# función de densidad\n",
    "ax[1].plot(pcps, cdf_gamma)\n",
    "#ax[1].set(ylim=(0, 1))\n",
    "ax[1].set_xlabel('precipitación (mm)', fontsize=13)\n",
    "ax[1].set_ylabel('función de densidad (cdf)', fontsize=13);"
   ]
  },
  {
   "cell_type": "markdown",
   "metadata": {},
   "source": [
    "Seguidamente se calcula, a modo de ejemplo, el SPI para un año aleatorio (en este caso el dato 11 de la serie anual). En el gráfico más abajo se explica de manera visual cuál es el procedimiento. Se calcula la probabilidad de no excendencia del dato de la serie según la distribución gamma; para dicho valor de probabilidad, se extrae de la normal el valor que generaría dicha probabilidad; dicho valor es el SPI."
   ]
  },
  {
   "cell_type": "code",
   "execution_count": null,
   "metadata": {},
   "outputs": [],
   "source": [
    "# Calcular el SPI de un año concreto\n",
    "\n",
    "print('pcp = {0:.2f} mm/d \\tcdf = {1:.3f}\\tSPI = {2:.3f}'.format(pcp, cdf, SPI))"
   ]
  },
  {
   "cell_type": "code",
   "execution_count": null,
   "metadata": {},
   "outputs": [],
   "source": [
    "# plotear el método de cálculo\n",
    "spis = np.arange(-5, 5, 0.1)\n",
    "cdf_norm = stats.norm.cdf(spis, loc=0, scale=1)\n",
    "\n",
    "fig, ax = plt.subplots(ncols=2, figsize=(12, 5), sharey=True)\n",
    "\n",
    "# función de densidad gamma\n",
    "ax[0].plot(pcps, cdf_gamma)\n",
    "ax[0].vlines(pcp, 0, cdf, linestyle='--', linewidth=0.7)\n",
    "ax[0].hlines(cdf, pcp, 3000, linestyle='--', linewidth=0.7)\n",
    "ax[0].set(xlim=(0, 3000), ylim=(0, 1))\n",
    "ax[0].set_xlabel('precipitación (mm)', fontsize=13)\n",
    "ax[0].set_ylabel('cdf-gamma', fontsize=13)\n",
    "\n",
    "# función de densidad normal\n",
    "ax[1].plot(spis, cdf_norm)\n",
    "ax[1].hlines(cdf, -10, SPI, linestyle='--', linewidth=0.7)\n",
    "ax[1].vlines(SPI, 0, cdf, linestyle='--', linewidth=0.7)\n",
    "ax[1].set(xlim=(-3, 3), ylim=(0, 1))\n",
    "ax[1].set_xlabel('SPI', fontsize=13)\n",
    "ax[1].set_ylabel('cdf-normal', fontsize=13);"
   ]
  },
  {
   "cell_type": "markdown",
   "metadata": {},
   "source": [
    "De cara a falicitar el código en los posteriores cálculos, crearemos una función que englobe todos los pasos necesarios para calcular el SPI. También definiremos una función para crear un gráfico con la serie temporal del SPI en el que se vean los distintos rangos y su definición."
   ]
  },
  {
   "cell_type": "code",
   "execution_count": null,
   "metadata": {
    "collapsed": true
   },
   "outputs": [],
   "source": [
    "def SPI(serie_pcp, verbose=False):\n",
    "    \"\"\"Calcular el 'standard precipitation index' (SPI) de una serie de precipitación\n",
    "    \n",
    "    Entradas:\n",
    "    ---------\n",
    "    serie_pcp: Series. Serie de precipitación\n",
    "    verbose:   boolean. Si se muestran los coeficientes ajustados para la distribución gamma\n",
    "    \n",
    "    Salidas:\n",
    "    --------\n",
    "    SPIs:      Series. Serie de SPI\n",
    "    \"\"\"\n",
    "    \n",
    "    \n",
    "        \n",
    "    return SPIs"
   ]
  },
  {
   "cell_type": "code",
   "execution_count": null,
   "metadata": {
    "collapsed": true
   },
   "outputs": [],
   "source": [
    "def plot_SPI(serie_spi, title):\n",
    "    \"\"\"Crea un diagrama de línea con la evolución temporal del SPI\n",
    "    \n",
    "    Entradas:\n",
    "    ---------\n",
    "    serie_spi: Series. Serie temporal de SPI\n",
    "    title:     string. Título del gráfico\n",
    "    \n",
    "    Salidas:\n",
    "    --------\n",
    "    Gráfico de línea\"\"\"\n",
    "    \n",
    "    # Configuración\n",
    "    fig, ax = plt.subplots(figsize=(12, 5))\n",
    "    ax.set(xlim=(serie_spi.index[0], serie_spi.index[-1]), ylim=(-3, 3))\n",
    "    ax.set_title(title, fontsize=14)\n",
    "    \n",
    "    # Gráfico de línea del SPI\n",
    "    ax.plot(serie_spi, color='k', linewidth=1.2)\n",
    "    \n",
    "    # Fondo con la leyenda de cada rango de SPI\n",
    "    ax.fill_between(serie_spi.index, -3, -2, color='indianred', alpha=0.4, label='sequía extrema')\n",
    "    ax.fill_between(serie_spi.index, -2, -1.5, color='indianred', alpha=0.3, label='sequía severa')\n",
    "    ax.fill_between(serie_spi.index, -1.5, -1, color='indianred', alpha=0.2, label='sequía moderada')\n",
    "    ax.fill_between(serie_spi.index, -1, 0, color='indianred', alpha=0.1, label='sequía ligera')\n",
    "    ax.fill_between(serie_spi.index, 0, 1, color='steelblue', alpha=0.1, label='húmedo ligero')\n",
    "    ax.fill_between(serie_spi.index, 1, 1.5, color='steelblue', alpha=0.2, label='húmedo moderado')\n",
    "    ax.fill_between(serie_spi.index, 1.5, 2, color='steelblue', alpha=0.3, label='húmedo severo')\n",
    "    ax.fill_between(serie_spi.index, 2, 3, color='steelblue', alpha=0.4, label='húmedo extremo')\n",
    "    \n",
    "    # leyenda\n",
    "    fig.legend(loc=[0.15, 0], ncol=4, fontsize=11);"
   ]
  },
  {
   "cell_type": "code",
   "execution_count": null,
   "metadata": {
    "collapsed": true
   },
   "outputs": [],
   "source": [
    "# calcular SPI de la serie anual\n"
   ]
  },
  {
   "cell_type": "code",
   "execution_count": null,
   "metadata": {},
   "outputs": [],
   "source": [
    "# gráfico del SPI anual\n"
   ]
  },
  {
   "cell_type": "markdown",
   "metadata": {},
   "source": [
    "#### Mensual"
   ]
  },
  {
   "cell_type": "code",
   "execution_count": null,
   "metadata": {
    "collapsed": true
   },
   "outputs": [],
   "source": [
    "# Serie mensual de SPI en el punto de cálculo\n"
   ]
  },
  {
   "cell_type": "code",
   "execution_count": null,
   "metadata": {},
   "outputs": [],
   "source": [
    "# Gráfico de la evolución temporal del SPI en el punto de cálculo\n"
   ]
  },
  {
   "cell_type": "markdown",
   "metadata": {},
   "source": [
    "### 2.3 Standard precipitation-evapotranspiration index: SPEI\n",
    "El SPEI es un índice derivado del SPI en el que se incluye la evapotranspiración para crear un índice de sequía hidrológica al añadir más variables del ciclo hidrológico. La única diferencia con respecto al SPI es que la serie temporal de entrada no es la precipitación, sino la diferencia entre precipitación y evapotranspiración.\n",
    "\n",
    "Al igual que el SPI, permite analizar diversas agregaciones temporales, con lo que se pueden identificar sequías de diversa duración. De nuevo analizaremos la escala anual y mensual.\n",
    "#### Anual"
   ]
  },
  {
   "cell_type": "code",
   "execution_count": null,
   "metadata": {
    "collapsed": true
   },
   "outputs": [],
   "source": [
    "# variable a la que se aplica el SPEI: diferencia de precipitación y evapotranspiración\n"
   ]
  },
  {
   "cell_type": "code",
   "execution_count": null,
   "metadata": {},
   "outputs": [],
   "source": [
    "# Serie anual de SPEI en el punto de cálculo\n",
    "\n",
    "\n",
    "# Gráfico de la evolución temporal del SPEI en el punto de cálculo\n"
   ]
  },
  {
   "cell_type": "markdown",
   "metadata": {
    "collapsed": true
   },
   "source": [
    "#### Mensual"
   ]
  },
  {
   "cell_type": "code",
   "execution_count": null,
   "metadata": {
    "collapsed": true
   },
   "outputs": [],
   "source": [
    "# variable a la que se aplica el SPEI: diferencia de preciptiación y evapotranspiración (D)\n"
   ]
  },
  {
   "cell_type": "code",
   "execution_count": null,
   "metadata": {
    "collapsed": true
   },
   "outputs": [],
   "source": [
    "# Serie mensual de SPEI en el punto de cálculo\n"
   ]
  },
  {
   "cell_type": "code",
   "execution_count": null,
   "metadata": {},
   "outputs": [],
   "source": [
    "# Gráfico de la evolución temporal del SPEI en el punto de cálculo\n"
   ]
  },
  {
   "cell_type": "markdown",
   "metadata": {},
   "source": [
    "### 2.4 Comparación"
   ]
  },
  {
   "cell_type": "code",
   "execution_count": null,
   "metadata": {},
   "outputs": [],
   "source": [
    "fig, axes = plt.subplots(ncols=2, figsize=(16, 5))\n",
    "\n",
    "for i in np.arange(0, 2):\n",
    "    r, c = int(i / 2), i % 2\n",
    "    if i == 0:\n",
    "        serie = SPIy_loc\n",
    "        title = 'SPI anual Santander'\n",
    "    elif i == 1:\n",
    "        serie = SPEIy_loc\n",
    "        title = 'SPEI anual Santander'\n",
    "    \n",
    "    # Evolución temporal del SPI/SPEI\n",
    "    axes[i].plot(serie, color='k', linewidth=1)\n",
    "    \n",
    "    # Fondos con los rangos de SPI/SPEI\n",
    "    axes[i].fill_between(serie.index, -3, -2, color='indianred', alpha=0.4,\n",
    "                     label='sequía extrema')\n",
    "    axes[i].fill_between(serie.index, -2, -1.5, color='indianred', alpha=0.3,\n",
    "                     label='sequía severa')\n",
    "    axes[i].fill_between(serie.index, -1.5, -1, color='indianred', alpha=0.2,\n",
    "                     label='sequía moderada')\n",
    "    axes[i].fill_between(serie.index, -1, 0, color='indianred', alpha=0.1,\n",
    "                     label='sequía ligera')\n",
    "    axes[i].fill_between(serie.index, 0, 1, color='steelblue', alpha=0.1,\n",
    "                     label='húmedo ligero')\n",
    "    axes[i].fill_between(serie.index, 1, 1.5, color='steelblue', alpha=0.2,\n",
    "                     label='húmedo moderado')\n",
    "    axes[i].fill_between(serie.index, 1.5, 2, color='steelblue', alpha=0.3,\n",
    "                     label='húmedo severo')\n",
    "    axes[i].fill_between(serie.index, 2, 3, color='steelblue', alpha=0.4,\n",
    "                     label='húmedo extremo')\n",
    "    axes[i].set(xlim=(serie.index[0], serie.index[-1]), ylim=(-3, 3))\n",
    "    axes[i].set_title(title, fontsize=15)"
   ]
  },
  {
   "cell_type": "code",
   "execution_count": null,
   "metadata": {},
   "outputs": [],
   "source": [
    "# Años de sequía según SPI\n",
    "\n",
    "print('nº sequias según SPI: {0}'.format(len(sequia_SPI)))\n",
    "print(sequia_SPI.values)\n",
    "print()\n",
    "\n",
    "# Años de sequía según SPEI\n",
    "\n",
    "print('nº sequias según SPI: {0}'.format(len(sequia_SPEI)))\n",
    "print(sequia_SPEI.values)"
   ]
  },
  {
   "cell_type": "markdown",
   "metadata": {},
   "source": [
    "Se entiende como sequía todo valor por debajo de *-1*. Según esto, __tanto el SPI como el SPEI identifican 11 sequías__ a escala anual.\n",
    "\n",
    "Sin embargo, __los índices no identifican los mismos años de sequía__. El SPI encuentra como secos los años 1953, 1955, 1987 y 1990, para los que no hubo sequía según el SPEI. Por el contrario, el SPEI define como secos los años 1957, 1970, 1976 y 1997, para los que no hubo sequía según el SPI. La diferencia es debida a que el SPI es un indicador de la sequía meteorológica, mientras que el SPEI lo es para la sequía hidrológica. De este modo, el SPI identifica como secos años aquellos con precipitación por debajo de lo normal, sin importar si en dicho año la temperatura causó una mayor o menor evaporación y, por tanto, precipitación neta. En cambio el SPEI puede identificar como secos años con una precipitación normal si la evapotranspiración es alta, o como años sin sequía aquéllos con poca precipitación si la evapotranspiración también es baja.\n",
    "\n",
    "Existen otros índices de sequía como el PDSI (_Palmer drought severity index_). Es uno de los índices más comúnmente usados, pero tiene el inconveniente de sólo poder ser usado a escala anual.\n",
    "\n",
    "En general, los índices deben ser acordes al criterio de sequía de estudio. Por ejemplo, el SPI es un índice adecuado si el objeto de nuestro estudio es la sequía meteorológica; sin embargo, si nos interesa la sequía agrícola es necesario utilizar índices que incluyan otras variables como la humedad del suelo o factores económicos."
   ]
  },
  {
   "cell_type": "markdown",
   "metadata": {},
   "source": [
    "## 3 Índices de sequía en España\n",
    "\n",
    "Entendido el cálculo para una serie temporal, calcular los índices de sequía para toda España consiste en iterar el proceso a través de todas las celdas del mapa. Calcularemos de nuevo el SPI y SPEI a resolución anual y mensual. Puesto que no tenemos mapas anuales, es necesario agregar los mapas mensuales.\n",
    "### 3.1 Mapas anuales"
   ]
  },
  {
   "cell_type": "code",
   "execution_count": null,
   "metadata": {
    "collapsed": true
   },
   "outputs": [],
   "source": [
    "# 'array' 3D donde calcular mapas anuales de precipitación\n",
    "\n"
   ]
  },
  {
   "cell_type": "code",
   "execution_count": null,
   "metadata": {
    "collapsed": true
   },
   "outputs": [],
   "source": [
    "# 'array' 3D donde calcular mapas anuales de temperatura\n",
    "\n"
   ]
  },
  {
   "cell_type": "code",
   "execution_count": null,
   "metadata": {
    "collapsed": true
   },
   "outputs": [],
   "source": [
    "# 'array' 3D donde calcular mapas anuales de temperatura\n",
    "\n"
   ]
  },
  {
   "cell_type": "code",
   "execution_count": null,
   "metadata": {
    "collapsed": true
   },
   "outputs": [],
   "source": [
    "# Calcular mapas mensuales\n"
   ]
  },
  {
   "cell_type": "code",
   "execution_count": null,
   "metadata": {},
   "outputs": [],
   "source": [
    "year = 10\n",
    "\n",
    "fig, ax = plt.subplots(ncols=3, figsize=(16, 4.25))\n",
    "\n",
    "# mapa de precipitación\n",
    "# ---------------------\n",
    "pcp_map = ax[0].imshow(pcp_y[year][::-1], cmap='viridis', aspect='equal')\n",
    "# configurar la figura\n",
    "ax[0].axis('off')\n",
    "ax[0].set_title('precipitación anual acumulada', fontsize=14)\n",
    "cb0 = fig.colorbar(pcp_map, ax=ax[0], orientation='horizontal')\n",
    "cb0.set_label('(mm)', fontsize=12)\n",
    "\n",
    "# mapa de temperatura\n",
    "# -------------------\n",
    "tmp_map = ax[1].imshow(tmp_y[year][::-1], cmap='viridis', aspect='equal')\n",
    "# configurar la figura\n",
    "ax[1].axis('off')\n",
    "ax[1].set_title('temperatura media anual', fontsize=14)\n",
    "cb1 = fig.colorbar(tmp_map, ax=ax[1], orientation='horizontal')\n",
    "cb1.set_label('(ºC)', fontsize=12)\n",
    "\n",
    "# mapa de evapotranspiración\n",
    "# --------------------------\n",
    "etp_map = ax[2].imshow(etp_y[year][::-1], cmap='viridis', aspect='equal')\n",
    "# configurar la figura\n",
    "ax[2].axis('off')\n",
    "ax[2].set_title('evapotranspiración anual anual', fontsize=14)\n",
    "cb2 = fig.colorbar(etp_map, ax=ax[2], orientation='horizontal')\n",
    "cb2.set_label('(mm)', fontsize=12)\n",
    "\n",
    "fig.suptitle(time_y[year], fontsize=16, fontweight='bold');"
   ]
  },
  {
   "cell_type": "markdown",
   "metadata": {},
   "source": [
    "### 3.2 SPI anual"
   ]
  },
  {
   "cell_type": "code",
   "execution_count": null,
   "metadata": {},
   "outputs": [],
   "source": [
    "# SPI anual para toda España\n"
   ]
  },
  {
   "cell_type": "markdown",
   "metadata": {},
   "source": [
    "###  3.3 SPEI anual"
   ]
  },
  {
   "cell_type": "code",
   "execution_count": null,
   "metadata": {
    "collapsed": true
   },
   "outputs": [],
   "source": [
    "# SPEI anual para toda España\n"
   ]
  },
  {
   "cell_type": "markdown",
   "metadata": {},
   "source": [
    "### 3.4 Comparación"
   ]
  },
  {
   "cell_type": "code",
   "execution_count": null,
   "metadata": {
    "collapsed": true
   },
   "outputs": [],
   "source": [
    "year1, year2 = 10, 20\n",
    "\n",
    "# Configurar escala\n",
    "import matplotlib as mpl\n",
    "cmap = mpl.colors.ListedColormap(['brown', 'indianred', 'lightcoral', 'mistyrose',\n",
    "                                  'lavender', 'lightsteelblue', 'lightslategray', 'slategray'])\n",
    "boundaries = [-3.0, -2.0, -1.5, -1.0, 0.0, 1.0, 1.5, 2.0, 3.0]\n",
    "norm = mpl.colors.BoundaryNorm(boundaries, cmap.N, clip=True)\n",
    "\n",
    "# FIGURA 1: SPI\n",
    "###############\n",
    "fig, ax = plt.subplots(ncols=2, figsize=(16, 5))\n",
    "\n",
    "# SPI año 1\n",
    "# ---------\n",
    "map1 = ax[0].imshow(SPIy_es[year1][::-1], cmap=cmap, norm=norm, aspect='equal')\n",
    "# configurar la figura\n",
    "ax[0].axis('off')\n",
    "ax[0].set_title('año ' + str(time_y[year1]), fontsize=14)\n",
    "cb1 = fig.colorbar(map1, ax=ax[0], orientation='horizontal', aspect=50)\n",
    "cb1.set_label('(-)', fontsize=12)\n",
    "\n",
    "# SPI año 2\n",
    "# ---------\n",
    "map2 = ax[1].imshow(SPIy_es[year2][::-1], cmap=cmap, norm=norm, aspect='equal')\n",
    "# configurar la figura\n",
    "ax[1].axis('off')\n",
    "ax[1].set_title('año ' + str(time_y[year2]), fontsize=14)\n",
    "cb2 = fig.colorbar(map2, ax=ax[1], orientation='horizontal', aspect=50)\n",
    "cb2.set_label('(-)', fontsize=12)\n",
    "\n",
    "fig.suptitle('SPI anual', fontsize=16, fontweight='bold');\n",
    "\n",
    "# FIGURA 2: SPEI\n",
    "################\n",
    "fig, ax = plt.subplots(ncols=2, figsize=(16, 5))\n",
    "\n",
    "# SPEI año 1\n",
    "# ---------\n",
    "map1 = ax[0].imshow(SPEIy_es[year1][::-1], cmap=cmap, norm=norm)\n",
    "# configurar la figura\n",
    "ax[0].axis('equal')\n",
    "ax[0].axis('off')\n",
    "ax[0].set_title('año ' + str(time_y[year1]), fontsize=14)\n",
    "cb1 = fig.colorbar(map1, ax=ax[0], orientation='horizontal', aspect=50)\n",
    "cb1.set_label('(-)', fontsize=12)\n",
    "\n",
    "# SPEI año 2\n",
    "# ---------\n",
    "map2 = ax[1].imshow(SPEIy_es[year2][::-1], cmap=cmap, norm=norm)\n",
    "# configurar la figura\n",
    "ax[1].axis('equal')\n",
    "ax[1].axis('off')\n",
    "ax[1].set_title('año ' + str(time_y[year2]), fontsize=14)\n",
    "cb2 = fig.colorbar(map2, ax=ax[1], orientation='horizontal', aspect=50)\n",
    "cb2.set_label('(-)', fontsize=12)\n",
    "\n",
    "fig.suptitle('SPEI anual', fontsize=16, fontweight='bold');"
   ]
  },
  {
   "cell_type": "markdown",
   "metadata": {},
   "source": [
    "Los dos mapas muestran dos años con un régimen hidrológico muy distinto. El año 1960 fue un año húmedo en gran parte de España, con la excepción de la costa mediterránea. El año 1970 fue un año seco en la mitad Este del país y zonas aisladas del Cantábrico. \n",
    "\n",
    "De nuevo se observan diferencias entre el SPI y el SPEI. Mientras que los mapas de SPI y SPEI para el año 1960 son muy parecidos, los del SPEI difieren sensiblemente, siendo las zonas afectadas por la sequía mucho más reducidas."
   ]
  },
  {
   "cell_type": "code",
   "execution_count": null,
   "metadata": {
    "collapsed": true
   },
   "outputs": [],
   "source": []
  }
 ],
 "metadata": {
  "kernelspec": {
   "display_name": "Python 3",
   "language": "python",
   "name": "python3"
  },
  "language_info": {
   "codemirror_mode": {
    "name": "ipython",
    "version": 3
   },
   "file_extension": ".py",
   "mimetype": "text/x-python",
   "name": "python",
   "nbconvert_exporter": "python",
   "pygments_lexer": "ipython3",
   "version": "3.6.7"
  }
 },
 "nbformat": 4,
 "nbformat_minor": 2
}
